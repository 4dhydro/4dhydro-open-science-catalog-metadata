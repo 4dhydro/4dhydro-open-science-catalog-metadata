{
 "cells": [
  {
   "cell_type": "code",
   "execution_count": null,
   "id": "fbb31646-dd09-4be4-a1e8-f9a4e745b9f5",
   "metadata": {},
   "outputs": [],
   "source": [
    "Convert a NetCDF file in the World Geodetic System (WGS-84; EPSG:4326)"
   ]
  },
  {
   "cell_type": "code",
   "execution_count": null,
   "id": "c87b49eb-a868-47b2-a571-cb25c52721be",
   "metadata": {},
   "outputs": [],
   "source": [
    "# Import libraries\n",
    "\n",
    "import xarray as xr\n",
    "from pyproj import CRS"
   ]
  }
 ],
 "metadata": {
  "kernelspec": {
   "display_name": "Python 3 (ipykernel)",
   "language": "python",
   "name": "python3"
  },
  "language_info": {
   "codemirror_mode": {
    "name": "ipython",
    "version": 3
   },
   "file_extension": ".py",
   "mimetype": "text/x-python",
   "name": "python",
   "nbconvert_exporter": "python",
   "pygments_lexer": "ipython3",
   "version": "3.10.6"
  }
 },
 "nbformat": 4,
 "nbformat_minor": 5
}
